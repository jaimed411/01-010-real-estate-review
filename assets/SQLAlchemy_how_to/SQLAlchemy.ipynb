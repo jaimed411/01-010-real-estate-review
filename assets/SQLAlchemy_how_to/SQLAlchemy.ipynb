{
 "cells": [
  {
   "attachments": {},
   "cell_type": "markdown",
   "metadata": {},
   "source": [
    "### Initializing and connection to the Database"
   ]
  },
  {
   "cell_type": "code",
   "execution_count": 1,
   "metadata": {},
   "outputs": [],
   "source": [
    "import sqlalchemy as db\n",
    "\n",
    "# Create the engine, the instance of the Database\n",
    "engine = db.create_engine('sqlite:///keywords_SQLAlchemy.sqlite')\n",
    "\n",
    "# Load the Metadata of the Database for managing and accessing tables\n",
    "meta = db.MetaData()\n",
    "\n",
    "# Create the connection object\n",
    "con = engine.connect()"
   ]
  },
  {
   "attachments": {},
   "cell_type": "markdown",
   "metadata": {},
   "source": [
    "### Creating the table"
   ]
  },
  {
   "cell_type": "code",
   "execution_count": 2,
   "metadata": {},
   "outputs": [],
   "source": [
    "from sqlalchemy import Table, Column, Integer, String\n",
    "\n",
    "# Create the table\n",
    "Cars = Table('cars', meta,\n",
    "   Column('id', Integer, primary_key = True),\n",
    "   Column('model', String),\n",
    "   Column('cv', Integer)\n",
    ")\n",
    "\n",
    "# Create the table or tables defined into the Database\n",
    "meta.create_all(engine)"
   ]
  },
  {
   "attachments": {},
   "cell_type": "markdown",
   "metadata": {},
   "source": [
    "### Inserting records"
   ]
  },
  {
   "cell_type": "code",
   "execution_count": 1,
   "metadata": {},
   "outputs": [
    {
     "ename": "NameError",
     "evalue": "name 'db' is not defined",
     "output_type": "error",
     "traceback": [
      "\u001b[1;31m---------------------------------------------------------------------------\u001b[0m",
      "\u001b[1;31mNameError\u001b[0m                                 Traceback (most recent call last)",
      "Cell \u001b[1;32mIn[1], line 2\u001b[0m\n\u001b[0;32m      1\u001b[0m \u001b[39m# Insert a single record into Database\u001b[39;00m\n\u001b[1;32m----> 2\u001b[0m query \u001b[39m=\u001b[39m db\u001b[39m.\u001b[39minsert(Cars)\u001b[39m.\u001b[39mvalues(\u001b[39mid\u001b[39m \u001b[39m=\u001b[39m \u001b[39m1\u001b[39m, model \u001b[39m=\u001b[39m \u001b[39m'\u001b[39m\u001b[39mRenault Clio\u001b[39m\u001b[39m'\u001b[39m, cv \u001b[39m=\u001b[39m \u001b[39m95\u001b[39m)\n\u001b[0;32m      3\u001b[0m con\u001b[39m.\u001b[39mexecute(query)\n\u001b[0;32m      5\u001b[0m \u001b[39m# Insert multiple records into Database\u001b[39;00m\n",
      "\u001b[1;31mNameError\u001b[0m: name 'db' is not defined"
     ]
    }
   ],
   "source": [
    "# Insert a single record into Database\n",
    "query = db.insert(Cars).values(id = 1, model = 'Renault Clio', cv = 95)\n",
    "con.execute(query)\n",
    "\n",
    "# Insert multiple records into Database\n",
    "query = db.insert(Cars)\n",
    "values_list = [\n",
    "    {\"id\": 2, \"model\": \"Tesla Model 3\", \"cv\": 390},\n",
    "    {\"id\": 3, \"model\": \"Fiat 500\", \"cv\": 110}\n",
    "]\n",
    "con.execute(query, values_list)"
   ]
  },
  {
   "attachments": {},
   "cell_type": "markdown",
   "metadata": {},
   "source": [
    "### Selecting records"
   ]
  },
  {
   "cell_type": "code",
   "execution_count": 4,
   "metadata": {},
   "outputs": [
    {
     "name": "stdout",
     "output_type": "stream",
     "text": [
      "Select all rows\n",
      "(1, 'Renault Clio', 95)\n",
      "(2, 'Tesla Model 3', 390)\n",
      "(3, 'Fiat 500', 110)\n",
      "\n",
      "Select rows that contain id == 2\n",
      "(2, 'Tesla Model 3', 390)\n",
      "\n",
      "Save select query into Pandas DataFrame\n",
      "[(1, 'Renault Clio', 95), (2, 'Tesla Model 3', 390), (3, 'Fiat 500', 110)]\n",
      "   id          model   cv\n",
      "0   1   Renault Clio   95\n",
      "1   2  Tesla Model 3  390\n",
      "2   3       Fiat 500  110\n"
     ]
    }
   ],
   "source": [
    "from sqlalchemy import select\n",
    "import pandas as pd\n",
    "\n",
    "# Select all rows\n",
    "print(\"Select all rows\")\n",
    "query = select(Cars)\n",
    "for row in con.execute(query):\n",
    "    print(row)\n",
    "\n",
    "# Select rows based on condition, id == 2\n",
    "print(\"\\nSelect rows that contain id == 2\")\n",
    "query = select(Cars).where(Cars.c.id == 2)\n",
    "for row in con.execute(query):\n",
    "    print(row)\n",
    "\n",
    "# Save select query into Pandas DataFrame\n",
    "print(\"\\nSave select query into Pandas DataFrame\")\n",
    "query = select(Cars)\n",
    "# fetchall() function returns a list of tuples with the results of the query. Using this we won't need to iterate over a for\n",
    "rows = con.execute(query).fetchall()\n",
    "print(rows)\n",
    "rows_df = pd.DataFrame(rows)\n",
    "print(rows_df)"
   ]
  },
  {
   "attachments": {},
   "cell_type": "markdown",
   "metadata": {},
   "source": [
    "### Deleting records"
   ]
  },
  {
   "cell_type": "code",
   "execution_count": 5,
   "metadata": {},
   "outputs": [
    {
     "data": {
      "text/html": [
       "<div>\n",
       "<style scoped>\n",
       "    .dataframe tbody tr th:only-of-type {\n",
       "        vertical-align: middle;\n",
       "    }\n",
       "\n",
       "    .dataframe tbody tr th {\n",
       "        vertical-align: top;\n",
       "    }\n",
       "\n",
       "    .dataframe thead th {\n",
       "        text-align: right;\n",
       "    }\n",
       "</style>\n",
       "<table border=\"1\" class=\"dataframe\">\n",
       "  <thead>\n",
       "    <tr style=\"text-align: right;\">\n",
       "      <th></th>\n",
       "      <th>id</th>\n",
       "      <th>model</th>\n",
       "      <th>cv</th>\n",
       "    </tr>\n",
       "  </thead>\n",
       "  <tbody>\n",
       "    <tr>\n",
       "      <th>0</th>\n",
       "      <td>1</td>\n",
       "      <td>Renault Clio</td>\n",
       "      <td>95</td>\n",
       "    </tr>\n",
       "    <tr>\n",
       "      <th>1</th>\n",
       "      <td>3</td>\n",
       "      <td>Fiat 500</td>\n",
       "      <td>110</td>\n",
       "    </tr>\n",
       "  </tbody>\n",
       "</table>\n",
       "</div>"
      ],
      "text/plain": [
       "   id         model   cv\n",
       "0   1  Renault Clio   95\n",
       "1   3      Fiat 500  110"
      ]
     },
     "execution_count": 5,
     "metadata": {},
     "output_type": "execute_result"
    }
   ],
   "source": [
    "from sqlalchemy import delete\n",
    "\n",
    "# Remove rows based on condition, id == 2\n",
    "query = delete(Cars).where(Cars.c.id == 2)\n",
    "con.execute(query)\n",
    "\n",
    "# Let's check if the delete statement has worked well with a compressed select query\n",
    "pd.DataFrame(con.execute(select(Cars)).fetchall())"
   ]
  },
  {
   "attachments": {},
   "cell_type": "markdown",
   "metadata": {},
   "source": [
    "### Updating records"
   ]
  },
  {
   "cell_type": "code",
   "execution_count": 6,
   "metadata": {},
   "outputs": [
    {
     "data": {
      "text/html": [
       "<div>\n",
       "<style scoped>\n",
       "    .dataframe tbody tr th:only-of-type {\n",
       "        vertical-align: middle;\n",
       "    }\n",
       "\n",
       "    .dataframe tbody tr th {\n",
       "        vertical-align: top;\n",
       "    }\n",
       "\n",
       "    .dataframe thead th {\n",
       "        text-align: right;\n",
       "    }\n",
       "</style>\n",
       "<table border=\"1\" class=\"dataframe\">\n",
       "  <thead>\n",
       "    <tr style=\"text-align: right;\">\n",
       "      <th></th>\n",
       "      <th>id</th>\n",
       "      <th>model</th>\n",
       "      <th>cv</th>\n",
       "    </tr>\n",
       "  </thead>\n",
       "  <tbody>\n",
       "    <tr>\n",
       "      <th>0</th>\n",
       "      <td>1</td>\n",
       "      <td>Renault Clio</td>\n",
       "      <td>100</td>\n",
       "    </tr>\n",
       "    <tr>\n",
       "      <th>1</th>\n",
       "      <td>3</td>\n",
       "      <td>Fiat 500</td>\n",
       "      <td>110</td>\n",
       "    </tr>\n",
       "  </tbody>\n",
       "</table>\n",
       "</div>"
      ],
      "text/plain": [
       "   id         model   cv\n",
       "0   1  Renault Clio  100\n",
       "1   3      Fiat 500  110"
      ]
     },
     "execution_count": 6,
     "metadata": {},
     "output_type": "execute_result"
    }
   ],
   "source": [
    "from sqlalchemy import update\n",
    "\n",
    "query = update(Cars).values(cv = 100).where(Cars.c.id == 1)\n",
    "con.execute(query)\n",
    "\n",
    "# Let's check if the delete statement has worked well with a compressed select query\n",
    "pd.DataFrame(con.execute(select(Cars)).fetchall())"
   ]
  },
  {
   "attachments": {},
   "cell_type": "markdown",
   "metadata": {},
   "source": [
    "### Dropping tables"
   ]
  },
  {
   "cell_type": "code",
   "execution_count": 7,
   "metadata": {},
   "outputs": [],
   "source": [
    "# Drop the Cars table from the Database\n",
    "# Cars.drop(engine)\n",
    "\n",
    "# Drop ALL tables from the Database (uncomment the following code-line to execute)\n",
    "# meta.drop_all(engine)"
   ]
  },
  {
   "cell_type": "code",
   "execution_count": null,
   "metadata": {},
   "outputs": [],
   "source": []
  }
 ],
 "metadata": {
  "kernelspec": {
   "display_name": "Python 3.8.13 64-bit ('3.8.13')",
   "language": "python",
   "name": "python3"
  },
  "language_info": {
   "codemirror_mode": {
    "name": "ipython",
    "version": 3
   },
   "file_extension": ".py",
   "mimetype": "text/x-python",
   "name": "python",
   "nbconvert_exporter": "python",
   "pygments_lexer": "ipython3",
   "version": "3.9.5"
  },
  "orig_nbformat": 4,
  "vscode": {
   "interpreter": {
    "hash": "110cc1dee26208153f2972f08a2ad52b6a56238dc66d48e87fb757ef2996db56"
   }
  }
 },
 "nbformat": 4,
 "nbformat_minor": 2
}
