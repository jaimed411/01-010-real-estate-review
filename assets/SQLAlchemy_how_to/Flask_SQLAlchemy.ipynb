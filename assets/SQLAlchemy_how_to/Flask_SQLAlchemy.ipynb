{
 "cells": [
  {
   "attachments": {},
   "cell_type": "markdown",
   "metadata": {},
   "source": [
    "### Initializing and connection to the Database"
   ]
  },
  {
   "cell_type": "code",
   "execution_count": 1,
   "metadata": {},
   "outputs": [],
   "source": [
    "from flask import Flask\n",
    "from flask_sqlalchemy import SQLAlchemy\n",
    "\n",
    "# Create the app reference and the connection to the Database\n",
    "app = Flask(__name__)\n",
    "app.config['SQLALCHEMY_DATABASE_URI'] = 'sqlite:///keywords_Flask.sqlite'\n",
    "app.app_context().push()\n",
    "\n",
    "db = SQLAlchemy(app)"
   ]
  },
  {
   "attachments": {},
   "cell_type": "markdown",
   "metadata": {},
   "source": [
    "### Creating the table"
   ]
  },
  {
   "cell_type": "code",
   "execution_count": 2,
   "metadata": {},
   "outputs": [],
   "source": [
    "class Cars(db.Model):\n",
    "    __tablename__ = 'Cars'\n",
    "    # Aquí definimos el nombre de la tabla 'Person'\n",
    "    # Ten en cuenta que cada columna es también un atributo normal de primera instancia de Python.\n",
    "    id = db.Column(db.Integer, primary_key = True)\n",
    "    model = db.Column(db.String(250), nullable = False)\n",
    "    cv = db.Column(db.Integer, nullable = False)\n",
    "\n",
    "    def __init__(self, id, model, cv):\n",
    "        self.id = id\n",
    "        self.model = model\n",
    "        self.cv = cv\n",
    "\n",
    "db.create_all()"
   ]
  },
  {
   "attachments": {},
   "cell_type": "markdown",
   "metadata": {},
   "source": [
    "### Inserting values"
   ]
  },
  {
   "cell_type": "code",
   "execution_count": 3,
   "metadata": {},
   "outputs": [],
   "source": [
    "car1 = Cars(id = 1, model = \"Renault Clio\", cv = 95)\n",
    "car2 = Cars(id = 2, model = \"Tesla Model 3\", cv = 390)\n",
    "car3 = Cars(id = 3, model = \"Fiat 500\", cv = 110)\n",
    "db.session.add(car1)\n",
    "db.session.add(car2)\n",
    "db.session.add(car3)\n",
    "db.session.commit()"
   ]
  },
  {
   "attachments": {},
   "cell_type": "markdown",
   "metadata": {},
   "source": [
    "### Selecting records"
   ]
  },
  {
   "cell_type": "code",
   "execution_count": 4,
   "metadata": {},
   "outputs": [
    {
     "name": "stdout",
     "output_type": "stream",
     "text": [
      "Select all rows\n",
      "Id = 1, Model = Renault Clio, CV = 95\n",
      "Id = 2, Model = Tesla Model 3, CV = 390\n",
      "Id = 3, Model = Fiat 500, CV = 110\n",
      "\n",
      "Select rows that contain id == 2\n",
      "Id = 2, Model = Tesla Model 3, CV = 390\n"
     ]
    },
    {
     "name": "stderr",
     "output_type": "stream",
     "text": [
      "/tmp/ipykernel_9023/1395743068.py:9: LegacyAPIWarning: The Query.get() method is considered legacy as of the 1.x series of SQLAlchemy and becomes a legacy construct in 2.0. The method is now available as Session.get() (deprecated since: 2.0) (Background on SQLAlchemy 2.0 at: https://sqlalche.me/e/b8d9)\n",
      "  car_selected = Cars.query.get(2)\n"
     ]
    }
   ],
   "source": [
    "# Select all rows\n",
    "print(\"Select all rows\")\n",
    "query = Cars.query.all()\n",
    "for row in query:\n",
    "    print(f\"Id = {row.id}, Model = {row.model}, CV = {row.cv}\")\n",
    "\n",
    "# Select rows based on condition, id == 2. In this case, because id is a primary key, the syntax is like the following:\n",
    "print(\"\\nSelect rows that contain id == 2\")\n",
    "car_selected = Cars.query.get(2)\n",
    "print(f\"Id = {car_selected.id}, Model = {car_selected.model}, CV = {car_selected.cv}\")"
   ]
  },
  {
   "attachments": {},
   "cell_type": "markdown",
   "metadata": {},
   "source": [
    "### Deleting records"
   ]
  },
  {
   "cell_type": "code",
   "execution_count": 5,
   "metadata": {},
   "outputs": [
    {
     "name": "stdout",
     "output_type": "stream",
     "text": [
      "Id = 1, Model = Renault Clio, CV = 95\n",
      "Id = 3, Model = Fiat 500, CV = 110\n"
     ]
    },
    {
     "name": "stderr",
     "output_type": "stream",
     "text": [
      "/tmp/ipykernel_9023/1547564661.py:2: LegacyAPIWarning: The Query.get() method is considered legacy as of the 1.x series of SQLAlchemy and becomes a legacy construct in 2.0. The method is now available as Session.get() (deprecated since: 2.0) (Background on SQLAlchemy 2.0 at: https://sqlalche.me/e/b8d9)\n",
      "  car = Cars.query.get(2)\n"
     ]
    }
   ],
   "source": [
    "# Remove rows based on condition, id == 2\n",
    "car = Cars.query.get(2)\n",
    "db.session.delete(car)\n",
    "db.session.commit()\n",
    "\n",
    "# Let's check if the delete statement has worked well with a compressed select query\n",
    "query = Cars.query.all()\n",
    "for row in query:\n",
    "    print(f\"Id = {row.id}, Model = {row.model}, CV = {row.cv}\")"
   ]
  },
  {
   "attachments": {},
   "cell_type": "markdown",
   "metadata": {},
   "source": [
    "### Updating records"
   ]
  },
  {
   "cell_type": "code",
   "execution_count": 6,
   "metadata": {},
   "outputs": [
    {
     "name": "stdout",
     "output_type": "stream",
     "text": [
      "Id = 1, Model = Renault Clio, CV = 100\n",
      "Id = 3, Model = Fiat 500, CV = 110\n"
     ]
    },
    {
     "name": "stderr",
     "output_type": "stream",
     "text": [
      "/tmp/ipykernel_9023/1767879677.py:1: LegacyAPIWarning: The Query.get() method is considered legacy as of the 1.x series of SQLAlchemy and becomes a legacy construct in 2.0. The method is now available as Session.get() (deprecated since: 2.0) (Background on SQLAlchemy 2.0 at: https://sqlalche.me/e/b8d9)\n",
      "  car = Cars.query.get(1)\n"
     ]
    }
   ],
   "source": [
    "car = Cars.query.get(1)\n",
    "car.cv = 100\n",
    "db.session.commit()\n",
    "\n",
    "# Let's check if the delete statement has worked well with a compressed select query\n",
    "query = Cars.query.all()\n",
    "for row in query:\n",
    "    print(f\"Id = {row.id}, Model = {row.model}, CV = {row.cv}\")"
   ]
  },
  {
   "attachments": {},
   "cell_type": "markdown",
   "metadata": {},
   "source": [
    "### Dropping tables"
   ]
  },
  {
   "cell_type": "code",
   "execution_count": 7,
   "metadata": {},
   "outputs": [],
   "source": [
    "# Drop ALL tables from the Database (uncomment the following code-line to execute)\n",
    "# db.drop_all()"
   ]
  }
 ],
 "metadata": {
  "kernelspec": {
   "display_name": "Python 3.8.13 64-bit ('3.8.13')",
   "language": "python",
   "name": "python3"
  },
  "language_info": {
   "codemirror_mode": {
    "name": "ipython",
    "version": 3
   },
   "file_extension": ".py",
   "mimetype": "text/x-python",
   "name": "python",
   "nbconvert_exporter": "python",
   "pygments_lexer": "ipython3",
   "version": "3.11.4"
  },
  "orig_nbformat": 4,
  "vscode": {
   "interpreter": {
    "hash": "110cc1dee26208153f2972f08a2ad52b6a56238dc66d48e87fb757ef2996db56"
   }
  }
 },
 "nbformat": 4,
 "nbformat_minor": 2
}
